{
 "cells": [
  {
   "cell_type": "code",
   "execution_count": 1,
   "id": "101c3ba1",
   "metadata": {
    "tags": []
   },
   "outputs": [],
   "source": [
    "%matplotlib inline\n",
    "import torch \n",
    "import torch.autograd as autograd \n",
    "import torch.nn as nn \n",
    "import torch.nn.functional as F\n",
    "import torch.optim as optim\n",
    "import numpy as np\n",
    "import pandas as pd"
   ]
  },
  {
   "cell_type": "markdown",
   "id": "613a1b21",
   "metadata": {},
   "source": [
    "# Import Data"
   ]
  },
  {
   "cell_type": "code",
   "execution_count": 2,
   "id": "abcf50d1",
   "metadata": {
    "tags": []
   },
   "outputs": [],
   "source": [
    "item_feature = pd.read_csv('../data/item_feature.csv')\n",
    "test_kaggle = pd.read_csv('../data/test_kaggle.csv')\n",
    "training = pd.read_csv('../data/training.csv')\n",
    "sample_submission = pd.read_csv('../data/sample_submission.csv')"
   ]
  },
  {
   "cell_type": "code",
   "execution_count": 3,
   "id": "d9d1e687",
   "metadata": {
    "tags": []
   },
   "outputs": [
    {
     "data": {
      "text/plain": [
       "30455"
      ]
     },
     "execution_count": 3,
     "metadata": {},
     "output_type": "execute_result"
    }
   ],
   "source": [
    "# number of users we don't have in the train\n",
    "len(set(test_kaggle.user_id.unique()) - set(training.user_id.unique()))"
   ]
  },
  {
   "cell_type": "markdown",
   "id": "b0f51bc8",
   "metadata": {},
   "source": [
    "# Data Preparation: Implicit Ratings to training data"
   ]
  },
  {
   "cell_type": "code",
   "execution_count": 4,
   "id": "98dc303d",
   "metadata": {
    "tags": []
   },
   "outputs": [
    {
     "data": {
      "text/html": [
       "<div>\n",
       "<style scoped>\n",
       "    .dataframe tbody tr th:only-of-type {\n",
       "        vertical-align: middle;\n",
       "    }\n",
       "\n",
       "    .dataframe tbody tr th {\n",
       "        vertical-align: top;\n",
       "    }\n",
       "\n",
       "    .dataframe thead th {\n",
       "        text-align: right;\n",
       "    }\n",
       "</style>\n",
       "<table border=\"1\" class=\"dataframe\">\n",
       "  <thead>\n",
       "    <tr style=\"text-align: right;\">\n",
       "      <th></th>\n",
       "      <th>user_id</th>\n",
       "      <th>item_id</th>\n",
       "      <th>context_feature_id</th>\n",
       "    </tr>\n",
       "  </thead>\n",
       "  <tbody>\n",
       "    <tr>\n",
       "      <th>0</th>\n",
       "      <td>0</td>\n",
       "      <td>28366</td>\n",
       "      <td>2</td>\n",
       "    </tr>\n",
       "    <tr>\n",
       "      <th>1</th>\n",
       "      <td>0</td>\n",
       "      <td>16109</td>\n",
       "      <td>2</td>\n",
       "    </tr>\n",
       "    <tr>\n",
       "      <th>2</th>\n",
       "      <td>0</td>\n",
       "      <td>11500</td>\n",
       "      <td>3</td>\n",
       "    </tr>\n",
       "    <tr>\n",
       "      <th>3</th>\n",
       "      <td>0</td>\n",
       "      <td>20750</td>\n",
       "      <td>2</td>\n",
       "    </tr>\n",
       "    <tr>\n",
       "      <th>4</th>\n",
       "      <td>0</td>\n",
       "      <td>8759</td>\n",
       "      <td>2</td>\n",
       "    </tr>\n",
       "  </tbody>\n",
       "</table>\n",
       "</div>"
      ],
      "text/plain": [
       "   user_id  item_id  context_feature_id\n",
       "0        0    28366                   2\n",
       "1        0    16109                   2\n",
       "2        0    11500                   3\n",
       "3        0    20750                   2\n",
       "4        0     8759                   2"
      ]
     },
     "execution_count": 4,
     "metadata": {},
     "output_type": "execute_result"
    }
   ],
   "source": [
    "# training.drop(columns=['context_feature_id'], inplace=True)\n",
    "training.head()"
   ]
  },
  {
   "cell_type": "code",
   "execution_count": 5,
   "id": "69993a8f",
   "metadata": {
    "tags": []
   },
   "outputs": [],
   "source": [
    "from collections import defaultdict\n",
    "positive_item_dict = defaultdict(set)\n",
    "user_items_list = [tuple(x) for x in training[['user_id', 'item_id']].to_numpy()]\n",
    "for key, val in user_items_list:\n",
    "    positive_item_dict[key].add(val)"
   ]
  },
  {
   "cell_type": "code",
   "execution_count": 6,
   "id": "1137334a",
   "metadata": {
    "tags": []
   },
   "outputs": [],
   "source": [
    "all_itemIds = set(training['item_id'].unique())\n",
    "# finding top N common items in the entire training sample\n",
    "most_common_items = set(training['item_id'].value_counts()[:len(all_itemIds)-200].index)"
   ]
  },
  {
   "cell_type": "code",
   "execution_count": 7,
   "id": "66c9f026-45d3-4b2b-b403-fb77f2cd822b",
   "metadata": {},
   "outputs": [
    {
     "data": {
      "text/plain": [
       "37978"
      ]
     },
     "execution_count": 7,
     "metadata": {},
     "output_type": "execute_result"
    }
   ],
   "source": [
    "len(all_itemIds)"
   ]
  },
  {
   "cell_type": "code",
   "execution_count": 8,
   "id": "0b08d0f9",
   "metadata": {
    "tags": []
   },
   "outputs": [
    {
     "data": {
      "text/plain": [
       "37778"
      ]
     },
     "execution_count": 8,
     "metadata": {},
     "output_type": "execute_result"
    }
   ],
   "source": [
    "len(most_common_items)"
   ]
  },
  {
   "cell_type": "code",
   "execution_count": 9,
   "id": "3b27db88",
   "metadata": {
    "tags": []
   },
   "outputs": [],
   "source": [
    "import random\n",
    "def find_negatives_items_id(df, user_id):\n",
    "    #items ids user interacted are considered as positives\n",
    "    item_ids_Interacted = positive_item_dict[user_id]\n",
    "    all_negative_items_id = list(most_common_items - item_ids_Interacted)\n",
    "    negative_items_id = random.sample(all_negative_items_id, 4*len(item_ids_Interacted))\n",
    "    return negative_items_id"
   ]
  },
  {
   "cell_type": "code",
   "execution_count": 10,
   "id": "b464c389",
   "metadata": {
    "tags": []
   },
   "outputs": [],
   "source": [
    "from tqdm.notebook import tqdm"
   ]
  },
  {
   "cell_type": "code",
   "execution_count": 11,
   "id": "274c93bc",
   "metadata": {
    "tags": []
   },
   "outputs": [
    {
     "data": {
      "application/vnd.jupyter.widget-view+json": {
       "model_id": "505e31925f174510b0b63482b1a08270",
       "version_major": 2,
       "version_minor": 0
      },
      "text/plain": [
       "  0%|          | 0/169698 [00:00<?, ?it/s]"
      ]
     },
     "metadata": {},
     "output_type": "display_data"
    }
   ],
   "source": [
    "## creating a dictionary with user as key and negative_items_id list as value\n",
    "all_UserIds = training['user_id'].unique()\n",
    "negative_samples_dict = {}\n",
    "for user in tqdm(all_UserIds):\n",
    "    negative_items_id = find_negatives_items_id(training, user) ## getting the list of negative items\n",
    "    negative_samples_dict[user] = negative_items_id ## building a dictionary"
   ]
  },
  {
   "cell_type": "code",
   "execution_count": 12,
   "id": "77746902-70f3-400f-80cd-637232361cc9",
   "metadata": {},
   "outputs": [
    {
     "data": {
      "text/plain": [
       "169698"
      ]
     },
     "execution_count": 12,
     "metadata": {},
     "output_type": "execute_result"
    }
   ],
   "source": [
    "len(all_UserIds)"
   ]
  },
  {
   "cell_type": "code",
   "execution_count": 13,
   "id": "cc67f566",
   "metadata": {
    "tags": []
   },
   "outputs": [
    {
     "data": {
      "text/html": [
       "<div>\n",
       "<style scoped>\n",
       "    .dataframe tbody tr th:only-of-type {\n",
       "        vertical-align: middle;\n",
       "    }\n",
       "\n",
       "    .dataframe tbody tr th {\n",
       "        vertical-align: top;\n",
       "    }\n",
       "\n",
       "    .dataframe thead th {\n",
       "        text-align: right;\n",
       "    }\n",
       "</style>\n",
       "<table border=\"1\" class=\"dataframe\">\n",
       "  <thead>\n",
       "    <tr style=\"text-align: right;\">\n",
       "      <th></th>\n",
       "      <th>user_id</th>\n",
       "      <th>item_id</th>\n",
       "      <th>context_feature_id</th>\n",
       "      <th>rating</th>\n",
       "    </tr>\n",
       "  </thead>\n",
       "  <tbody>\n",
       "    <tr>\n",
       "      <th>0</th>\n",
       "      <td>0</td>\n",
       "      <td>28366</td>\n",
       "      <td>2</td>\n",
       "      <td>1</td>\n",
       "    </tr>\n",
       "    <tr>\n",
       "      <th>1</th>\n",
       "      <td>0</td>\n",
       "      <td>16109</td>\n",
       "      <td>2</td>\n",
       "      <td>1</td>\n",
       "    </tr>\n",
       "    <tr>\n",
       "      <th>2</th>\n",
       "      <td>0</td>\n",
       "      <td>11500</td>\n",
       "      <td>3</td>\n",
       "      <td>1</td>\n",
       "    </tr>\n",
       "    <tr>\n",
       "      <th>3</th>\n",
       "      <td>0</td>\n",
       "      <td>20750</td>\n",
       "      <td>2</td>\n",
       "      <td>1</td>\n",
       "    </tr>\n",
       "    <tr>\n",
       "      <th>4</th>\n",
       "      <td>0</td>\n",
       "      <td>8759</td>\n",
       "      <td>2</td>\n",
       "      <td>1</td>\n",
       "    </tr>\n",
       "  </tbody>\n",
       "</table>\n",
       "</div>"
      ],
      "text/plain": [
       "   user_id  item_id  context_feature_id  rating\n",
       "0        0    28366                   2       1\n",
       "1        0    16109                   2       1\n",
       "2        0    11500                   3       1\n",
       "3        0    20750                   2       1\n",
       "4        0     8759                   2       1"
      ]
     },
     "execution_count": 13,
     "metadata": {},
     "output_type": "execute_result"
    }
   ],
   "source": [
    "# rating = 1 for all the interacted items\n",
    "training['rating'] = 1\n",
    "training.head(5)"
   ]
  },
  {
   "cell_type": "code",
   "execution_count": 14,
   "id": "ac477835",
   "metadata": {
    "tags": []
   },
   "outputs": [
    {
     "data": {
      "text/html": [
       "<div>\n",
       "<style scoped>\n",
       "    .dataframe tbody tr th:only-of-type {\n",
       "        vertical-align: middle;\n",
       "    }\n",
       "\n",
       "    .dataframe tbody tr th {\n",
       "        vertical-align: top;\n",
       "    }\n",
       "\n",
       "    .dataframe thead th {\n",
       "        text-align: right;\n",
       "    }\n",
       "</style>\n",
       "<table border=\"1\" class=\"dataframe\">\n",
       "  <thead>\n",
       "    <tr style=\"text-align: right;\">\n",
       "      <th></th>\n",
       "      <th>user_id</th>\n",
       "      <th>item_id</th>\n",
       "      <th>rating</th>\n",
       "    </tr>\n",
       "  </thead>\n",
       "  <tbody>\n",
       "    <tr>\n",
       "      <th>0</th>\n",
       "      <td>0</td>\n",
       "      <td>22164</td>\n",
       "      <td>0</td>\n",
       "    </tr>\n",
       "    <tr>\n",
       "      <th>1</th>\n",
       "      <td>0</td>\n",
       "      <td>19310</td>\n",
       "      <td>0</td>\n",
       "    </tr>\n",
       "    <tr>\n",
       "      <th>2</th>\n",
       "      <td>0</td>\n",
       "      <td>38140</td>\n",
       "      <td>0</td>\n",
       "    </tr>\n",
       "    <tr>\n",
       "      <th>3</th>\n",
       "      <td>0</td>\n",
       "      <td>13516</td>\n",
       "      <td>0</td>\n",
       "    </tr>\n",
       "    <tr>\n",
       "      <th>4</th>\n",
       "      <td>0</td>\n",
       "      <td>20259</td>\n",
       "      <td>0</td>\n",
       "    </tr>\n",
       "  </tbody>\n",
       "</table>\n",
       "</div>"
      ],
      "text/plain": [
       "   user_id  item_id  rating\n",
       "0        0    22164       0\n",
       "1        0    19310       0\n",
       "2        0    38140       0\n",
       "3        0    13516       0\n",
       "4        0    20259       0"
      ]
     },
     "execution_count": 14,
     "metadata": {},
     "output_type": "execute_result"
    }
   ],
   "source": [
    "# converting the dictionary value list as rows of dataframe \n",
    "neg_samples_df = pd.DataFrame(dict([(k,pd.Series(v)) for k,v in negative_samples_dict.items()])).melt().dropna()\n",
    "neg_samples_df.rename(columns={'variable': 'user_id', 'value': 'item_id'}, inplace = True)\n",
    "neg_samples_df['item_id'] = pd.to_numeric(neg_samples_df['item_id'], downcast='integer')\n",
    "neg_samples_df['rating'] = 0 ## giving negative samples as 0 probability\n",
    "neg_samples_df.head(5)"
   ]
  },
  {
   "cell_type": "code",
   "execution_count": 15,
   "id": "e0b6108f",
   "metadata": {
    "tags": []
   },
   "outputs": [
    {
     "data": {
      "text/html": [
       "<div>\n",
       "<style scoped>\n",
       "    .dataframe tbody tr th:only-of-type {\n",
       "        vertical-align: middle;\n",
       "    }\n",
       "\n",
       "    .dataframe tbody tr th {\n",
       "        vertical-align: top;\n",
       "    }\n",
       "\n",
       "    .dataframe thead th {\n",
       "        text-align: right;\n",
       "    }\n",
       "</style>\n",
       "<table border=\"1\" class=\"dataframe\">\n",
       "  <thead>\n",
       "    <tr style=\"text-align: right;\">\n",
       "      <th></th>\n",
       "      <th>user_id</th>\n",
       "      <th>item_id</th>\n",
       "      <th>context_feature_id</th>\n",
       "      <th>rating</th>\n",
       "    </tr>\n",
       "  </thead>\n",
       "  <tbody>\n",
       "    <tr>\n",
       "      <th>846166</th>\n",
       "      <td>174507</td>\n",
       "      <td>37313</td>\n",
       "      <td>2.0</td>\n",
       "      <td>1</td>\n",
       "    </tr>\n",
       "    <tr>\n",
       "      <th>1518941</th>\n",
       "      <td>31899</td>\n",
       "      <td>31583</td>\n",
       "      <td>NaN</td>\n",
       "      <td>0</td>\n",
       "    </tr>\n",
       "    <tr>\n",
       "      <th>2423880</th>\n",
       "      <td>84138</td>\n",
       "      <td>1026</td>\n",
       "      <td>NaN</td>\n",
       "      <td>0</td>\n",
       "    </tr>\n",
       "    <tr>\n",
       "      <th>3507637</th>\n",
       "      <td>146992</td>\n",
       "      <td>4004</td>\n",
       "      <td>NaN</td>\n",
       "      <td>0</td>\n",
       "    </tr>\n",
       "    <tr>\n",
       "      <th>4138861</th>\n",
       "      <td>183669</td>\n",
       "      <td>9199</td>\n",
       "      <td>NaN</td>\n",
       "      <td>0</td>\n",
       "    </tr>\n",
       "  </tbody>\n",
       "</table>\n",
       "</div>"
      ],
      "text/plain": [
       "         user_id  item_id  context_feature_id  rating\n",
       "846166    174507    37313                 2.0       1\n",
       "1518941    31899    31583                 NaN       0\n",
       "2423880    84138     1026                 NaN       0\n",
       "3507637   146992     4004                 NaN       0\n",
       "4138861   183669     9199                 NaN       0"
      ]
     },
     "execution_count": 15,
     "metadata": {},
     "output_type": "execute_result"
    }
   ],
   "source": [
    "# adding negative samples to the training dataframe\n",
    "new_train = training.append(neg_samples_df, ignore_index=True)\n",
    "new_train.sample(5)"
   ]
  },
  {
   "cell_type": "code",
   "execution_count": 16,
   "id": "acf7b6f7",
   "metadata": {
    "tags": []
   },
   "outputs": [
    {
     "data": {
      "text/plain": [
       "(4422217, 4)"
      ]
     },
     "execution_count": 16,
     "metadata": {},
     "output_type": "execute_result"
    }
   ],
   "source": [
    "new_train.shape"
   ]
  },
  {
   "cell_type": "code",
   "execution_count": 17,
   "id": "a3b0f5c3",
   "metadata": {
    "tags": []
   },
   "outputs": [
    {
     "data": {
      "text/html": [
       "<div>\n",
       "<style scoped>\n",
       "    .dataframe tbody tr th:only-of-type {\n",
       "        vertical-align: middle;\n",
       "    }\n",
       "\n",
       "    .dataframe tbody tr th {\n",
       "        vertical-align: top;\n",
       "    }\n",
       "\n",
       "    .dataframe thead th {\n",
       "        text-align: right;\n",
       "    }\n",
       "</style>\n",
       "<table border=\"1\" class=\"dataframe\">\n",
       "  <thead>\n",
       "    <tr style=\"text-align: right;\">\n",
       "      <th></th>\n",
       "      <th>item_id</th>\n",
       "      <th>item_feature_id</th>\n",
       "    </tr>\n",
       "  </thead>\n",
       "  <tbody>\n",
       "    <tr>\n",
       "      <th>0</th>\n",
       "      <td>0</td>\n",
       "      <td>139</td>\n",
       "    </tr>\n",
       "    <tr>\n",
       "      <th>1</th>\n",
       "      <td>1</td>\n",
       "      <td>55</td>\n",
       "    </tr>\n",
       "    <tr>\n",
       "      <th>2</th>\n",
       "      <td>2</td>\n",
       "      <td>11</td>\n",
       "    </tr>\n",
       "    <tr>\n",
       "      <th>3</th>\n",
       "      <td>3</td>\n",
       "      <td>138</td>\n",
       "    </tr>\n",
       "    <tr>\n",
       "      <th>4</th>\n",
       "      <td>4</td>\n",
       "      <td>138</td>\n",
       "    </tr>\n",
       "  </tbody>\n",
       "</table>\n",
       "</div>"
      ],
      "text/plain": [
       "   item_id  item_feature_id\n",
       "0        0              139\n",
       "1        1               55\n",
       "2        2               11\n",
       "3        3              138\n",
       "4        4              138"
      ]
     },
     "execution_count": 17,
     "metadata": {},
     "output_type": "execute_result"
    }
   ],
   "source": [
    "item_feature.head()"
   ]
  },
  {
   "cell_type": "code",
   "execution_count": 18,
   "id": "54c7e762",
   "metadata": {
    "tags": []
   },
   "outputs": [
    {
     "data": {
      "text/html": [
       "<div>\n",
       "<style scoped>\n",
       "    .dataframe tbody tr th:only-of-type {\n",
       "        vertical-align: middle;\n",
       "    }\n",
       "\n",
       "    .dataframe tbody tr th {\n",
       "        vertical-align: top;\n",
       "    }\n",
       "\n",
       "    .dataframe thead th {\n",
       "        text-align: right;\n",
       "    }\n",
       "</style>\n",
       "<table border=\"1\" class=\"dataframe\">\n",
       "  <thead>\n",
       "    <tr style=\"text-align: right;\">\n",
       "      <th></th>\n",
       "      <th>user_id</th>\n",
       "      <th>item_id</th>\n",
       "      <th>context_feature_id</th>\n",
       "      <th>rating</th>\n",
       "      <th>item_feature_id</th>\n",
       "    </tr>\n",
       "  </thead>\n",
       "  <tbody>\n",
       "    <tr>\n",
       "      <th>0</th>\n",
       "      <td>0</td>\n",
       "      <td>28366</td>\n",
       "      <td>2.0</td>\n",
       "      <td>1</td>\n",
       "      <td>7</td>\n",
       "    </tr>\n",
       "    <tr>\n",
       "      <th>1</th>\n",
       "      <td>1731</td>\n",
       "      <td>28366</td>\n",
       "      <td>1.0</td>\n",
       "      <td>1</td>\n",
       "      <td>7</td>\n",
       "    </tr>\n",
       "    <tr>\n",
       "      <th>2</th>\n",
       "      <td>10168</td>\n",
       "      <td>28366</td>\n",
       "      <td>2.0</td>\n",
       "      <td>1</td>\n",
       "      <td>7</td>\n",
       "    </tr>\n",
       "    <tr>\n",
       "      <th>3</th>\n",
       "      <td>18883</td>\n",
       "      <td>28366</td>\n",
       "      <td>1.0</td>\n",
       "      <td>1</td>\n",
       "      <td>7</td>\n",
       "    </tr>\n",
       "    <tr>\n",
       "      <th>4</th>\n",
       "      <td>19763</td>\n",
       "      <td>28366</td>\n",
       "      <td>2.0</td>\n",
       "      <td>1</td>\n",
       "      <td>7</td>\n",
       "    </tr>\n",
       "  </tbody>\n",
       "</table>\n",
       "</div>"
      ],
      "text/plain": [
       "   user_id  item_id  context_feature_id  rating  item_feature_id\n",
       "0        0    28366                 2.0       1                7\n",
       "1     1731    28366                 1.0       1                7\n",
       "2    10168    28366                 2.0       1                7\n",
       "3    18883    28366                 1.0       1                7\n",
       "4    19763    28366                 2.0       1                7"
      ]
     },
     "execution_count": 18,
     "metadata": {},
     "output_type": "execute_result"
    }
   ],
   "source": [
    "new_train = new_train.merge(item_feature, on = 'item_id')\n",
    "new_train.head()"
   ]
  },
  {
   "cell_type": "code",
   "execution_count": 19,
   "id": "795d1389",
   "metadata": {
    "tags": []
   },
   "outputs": [
    {
     "data": {
      "text/plain": [
       "(4422217, 5)"
      ]
     },
     "execution_count": 19,
     "metadata": {},
     "output_type": "execute_result"
    }
   ],
   "source": [
    "new_train.shape"
   ]
  },
  {
   "cell_type": "code",
   "execution_count": 20,
   "id": "d4668d5c-142d-4422-9ad1-58a4e2c8fb51",
   "metadata": {},
   "outputs": [
    {
     "data": {
      "text/plain": [
       "2.0    485857\n",
       "1.0    270187\n",
       "3.0    145267\n",
       "0.0     68934\n",
       "Name: context_feature_id, dtype: int64"
      ]
     },
     "execution_count": 20,
     "metadata": {},
     "output_type": "execute_result"
    }
   ],
   "source": [
    "new_train['context_feature_id'].value_counts()"
   ]
  },
  {
   "cell_type": "code",
   "execution_count": 21,
   "id": "d56c7b91-2363-4dd1-8d8d-436c64d53a63",
   "metadata": {},
   "outputs": [
    {
     "data": {
      "text/plain": [
       "user_id\n",
       "0         2.0\n",
       "1         2.0\n",
       "2         1.0\n",
       "3         1.0\n",
       "5         1.0\n",
       "         ... \n",
       "200147    2.0\n",
       "200148    2.0\n",
       "200149    2.0\n",
       "200150    2.0\n",
       "200152    2.0\n",
       "Name: context_feature_id, Length: 169698, dtype: float64"
      ]
     },
     "execution_count": 21,
     "metadata": {},
     "output_type": "execute_result"
    }
   ],
   "source": [
    "user_id_context_mode = new_train.groupby(['user_id'])['context_feature_id'].apply(lambda x: x.mode().iloc[0])\n",
    "user_id_context_mode"
   ]
  },
  {
   "cell_type": "code",
   "execution_count": 22,
   "id": "ff36a94e-fd42-4530-9e7b-a9182a094c41",
   "metadata": {},
   "outputs": [],
   "source": [
    "new_train = new_train.join(user_id_context_mode,on='user_id',how='left',lsuffix='l_')"
   ]
  },
  {
   "cell_type": "code",
   "execution_count": 23,
   "id": "e527a3f3-cadd-445f-8ddc-23b9c6198e69",
   "metadata": {},
   "outputs": [
    {
     "data": {
      "text/html": [
       "<div>\n",
       "<style scoped>\n",
       "    .dataframe tbody tr th:only-of-type {\n",
       "        vertical-align: middle;\n",
       "    }\n",
       "\n",
       "    .dataframe tbody tr th {\n",
       "        vertical-align: top;\n",
       "    }\n",
       "\n",
       "    .dataframe thead th {\n",
       "        text-align: right;\n",
       "    }\n",
       "</style>\n",
       "<table border=\"1\" class=\"dataframe\">\n",
       "  <thead>\n",
       "    <tr style=\"text-align: right;\">\n",
       "      <th></th>\n",
       "      <th>user_id</th>\n",
       "      <th>item_id</th>\n",
       "      <th>context_feature_idl_</th>\n",
       "      <th>rating</th>\n",
       "      <th>item_feature_id</th>\n",
       "      <th>context_feature_id</th>\n",
       "    </tr>\n",
       "  </thead>\n",
       "  <tbody>\n",
       "    <tr>\n",
       "      <th>0</th>\n",
       "      <td>0</td>\n",
       "      <td>28366</td>\n",
       "      <td>2.0</td>\n",
       "      <td>1</td>\n",
       "      <td>7</td>\n",
       "      <td>2.0</td>\n",
       "    </tr>\n",
       "    <tr>\n",
       "      <th>1</th>\n",
       "      <td>1731</td>\n",
       "      <td>28366</td>\n",
       "      <td>1.0</td>\n",
       "      <td>1</td>\n",
       "      <td>7</td>\n",
       "      <td>1.0</td>\n",
       "    </tr>\n",
       "    <tr>\n",
       "      <th>2</th>\n",
       "      <td>10168</td>\n",
       "      <td>28366</td>\n",
       "      <td>2.0</td>\n",
       "      <td>1</td>\n",
       "      <td>7</td>\n",
       "      <td>1.0</td>\n",
       "    </tr>\n",
       "    <tr>\n",
       "      <th>3</th>\n",
       "      <td>18883</td>\n",
       "      <td>28366</td>\n",
       "      <td>1.0</td>\n",
       "      <td>1</td>\n",
       "      <td>7</td>\n",
       "      <td>1.0</td>\n",
       "    </tr>\n",
       "    <tr>\n",
       "      <th>4</th>\n",
       "      <td>19763</td>\n",
       "      <td>28366</td>\n",
       "      <td>2.0</td>\n",
       "      <td>1</td>\n",
       "      <td>7</td>\n",
       "      <td>1.0</td>\n",
       "    </tr>\n",
       "  </tbody>\n",
       "</table>\n",
       "</div>"
      ],
      "text/plain": [
       "   user_id  item_id  context_feature_idl_  rating  item_feature_id  \\\n",
       "0        0    28366                   2.0       1                7   \n",
       "1     1731    28366                   1.0       1                7   \n",
       "2    10168    28366                   2.0       1                7   \n",
       "3    18883    28366                   1.0       1                7   \n",
       "4    19763    28366                   2.0       1                7   \n",
       "\n",
       "   context_feature_id  \n",
       "0                 2.0  \n",
       "1                 1.0  \n",
       "2                 1.0  \n",
       "3                 1.0  \n",
       "4                 1.0  "
      ]
     },
     "execution_count": 23,
     "metadata": {},
     "output_type": "execute_result"
    }
   ],
   "source": [
    "new_train.head()"
   ]
  },
  {
   "cell_type": "code",
   "execution_count": 24,
   "id": "54cf2f92-08dc-4ee6-a751-5ba3c88e1653",
   "metadata": {},
   "outputs": [],
   "source": [
    "new_train.drop(columns=['context_feature_idl_'], inplace=True)"
   ]
  },
  {
   "cell_type": "code",
   "execution_count": 25,
   "id": "80b3de7f-8789-4906-8603-0ec5370a6f7d",
   "metadata": {},
   "outputs": [
    {
     "data": {
      "text/plain": [
       "False"
      ]
     },
     "execution_count": 25,
     "metadata": {},
     "output_type": "execute_result"
    }
   ],
   "source": [
    "new_train.isnull().values.any()"
   ]
  },
  {
   "cell_type": "code",
   "execution_count": 26,
   "id": "6eb9f94f-8705-4040-91cc-73c4ba12131a",
   "metadata": {},
   "outputs": [
    {
     "data": {
      "text/html": [
       "<div>\n",
       "<style scoped>\n",
       "    .dataframe tbody tr th:only-of-type {\n",
       "        vertical-align: middle;\n",
       "    }\n",
       "\n",
       "    .dataframe tbody tr th {\n",
       "        vertical-align: top;\n",
       "    }\n",
       "\n",
       "    .dataframe thead th {\n",
       "        text-align: right;\n",
       "    }\n",
       "</style>\n",
       "<table border=\"1\" class=\"dataframe\">\n",
       "  <thead>\n",
       "    <tr style=\"text-align: right;\">\n",
       "      <th></th>\n",
       "      <th>user_id</th>\n",
       "      <th>item_id</th>\n",
       "      <th>rating</th>\n",
       "      <th>item_feature_id</th>\n",
       "      <th>context_feature_id</th>\n",
       "    </tr>\n",
       "  </thead>\n",
       "  <tbody>\n",
       "    <tr>\n",
       "      <th>0</th>\n",
       "      <td>0</td>\n",
       "      <td>28366</td>\n",
       "      <td>1</td>\n",
       "      <td>7</td>\n",
       "      <td>2</td>\n",
       "    </tr>\n",
       "    <tr>\n",
       "      <th>1</th>\n",
       "      <td>1731</td>\n",
       "      <td>28366</td>\n",
       "      <td>1</td>\n",
       "      <td>7</td>\n",
       "      <td>1</td>\n",
       "    </tr>\n",
       "    <tr>\n",
       "      <th>2</th>\n",
       "      <td>10168</td>\n",
       "      <td>28366</td>\n",
       "      <td>1</td>\n",
       "      <td>7</td>\n",
       "      <td>1</td>\n",
       "    </tr>\n",
       "    <tr>\n",
       "      <th>3</th>\n",
       "      <td>18883</td>\n",
       "      <td>28366</td>\n",
       "      <td>1</td>\n",
       "      <td>7</td>\n",
       "      <td>1</td>\n",
       "    </tr>\n",
       "    <tr>\n",
       "      <th>4</th>\n",
       "      <td>19763</td>\n",
       "      <td>28366</td>\n",
       "      <td>1</td>\n",
       "      <td>7</td>\n",
       "      <td>1</td>\n",
       "    </tr>\n",
       "  </tbody>\n",
       "</table>\n",
       "</div>"
      ],
      "text/plain": [
       "   user_id  item_id  rating  item_feature_id  context_feature_id\n",
       "0        0    28366       1                7                   2\n",
       "1     1731    28366       1                7                   1\n",
       "2    10168    28366       1                7                   1\n",
       "3    18883    28366       1                7                   1\n",
       "4    19763    28366       1                7                   1"
      ]
     },
     "execution_count": 26,
     "metadata": {},
     "output_type": "execute_result"
    }
   ],
   "source": [
    "new_train['context_feature_id'] = pd.to_numeric(new_train['context_feature_id'], downcast='integer')\n",
    "new_train.head()"
   ]
  },
  {
   "cell_type": "markdown",
   "id": "dafce1c5",
   "metadata": {},
   "source": [
    "# Splitting the dataset into Train and validation dataset"
   ]
  },
  {
   "cell_type": "code",
   "execution_count": 27,
   "id": "809d4544",
   "metadata": {
    "tags": []
   },
   "outputs": [],
   "source": [
    "from sklearn.model_selection import train_test_split\n",
    "random_state = 3\n",
    "train, val = train_test_split(new_train, test_size=0.2, random_state = random_state, shuffle=True,stratify=new_train['rating'])"
   ]
  },
  {
   "cell_type": "code",
   "execution_count": 28,
   "id": "e5f2b223",
   "metadata": {
    "tags": []
   },
   "outputs": [
    {
     "data": {
      "text/plain": [
       "((3537773, 5), (884444, 5))"
      ]
     },
     "execution_count": 28,
     "metadata": {},
     "output_type": "execute_result"
    }
   ],
   "source": [
    "train.shape, val.shape"
   ]
  },
  {
   "cell_type": "code",
   "execution_count": 29,
   "id": "a76bfcf5",
   "metadata": {
    "tags": []
   },
   "outputs": [
    {
     "data": {
      "text/html": [
       "<div>\n",
       "<style scoped>\n",
       "    .dataframe tbody tr th:only-of-type {\n",
       "        vertical-align: middle;\n",
       "    }\n",
       "\n",
       "    .dataframe tbody tr th {\n",
       "        vertical-align: top;\n",
       "    }\n",
       "\n",
       "    .dataframe thead th {\n",
       "        text-align: right;\n",
       "    }\n",
       "</style>\n",
       "<table border=\"1\" class=\"dataframe\">\n",
       "  <thead>\n",
       "    <tr style=\"text-align: right;\">\n",
       "      <th></th>\n",
       "      <th>user_id</th>\n",
       "      <th>item_id</th>\n",
       "      <th>rating</th>\n",
       "      <th>item_feature_id</th>\n",
       "      <th>context_feature_id</th>\n",
       "    </tr>\n",
       "  </thead>\n",
       "  <tbody>\n",
       "    <tr>\n",
       "      <th>4278067</th>\n",
       "      <td>2828</td>\n",
       "      <td>13904</td>\n",
       "      <td>0</td>\n",
       "      <td>139</td>\n",
       "      <td>0</td>\n",
       "    </tr>\n",
       "    <tr>\n",
       "      <th>2753690</th>\n",
       "      <td>175511</td>\n",
       "      <td>15602</td>\n",
       "      <td>0</td>\n",
       "      <td>84</td>\n",
       "      <td>2</td>\n",
       "    </tr>\n",
       "    <tr>\n",
       "      <th>2168548</th>\n",
       "      <td>169268</td>\n",
       "      <td>5813</td>\n",
       "      <td>0</td>\n",
       "      <td>148</td>\n",
       "      <td>2</td>\n",
       "    </tr>\n",
       "    <tr>\n",
       "      <th>2632089</th>\n",
       "      <td>158707</td>\n",
       "      <td>23201</td>\n",
       "      <td>0</td>\n",
       "      <td>94</td>\n",
       "      <td>3</td>\n",
       "    </tr>\n",
       "    <tr>\n",
       "      <th>482265</th>\n",
       "      <td>153989</td>\n",
       "      <td>34678</td>\n",
       "      <td>1</td>\n",
       "      <td>147</td>\n",
       "      <td>1</td>\n",
       "    </tr>\n",
       "  </tbody>\n",
       "</table>\n",
       "</div>"
      ],
      "text/plain": [
       "         user_id  item_id  rating  item_feature_id  context_feature_id\n",
       "4278067     2828    13904       0              139                   0\n",
       "2753690   175511    15602       0               84                   2\n",
       "2168548   169268     5813       0              148                   2\n",
       "2632089   158707    23201       0               94                   3\n",
       "482265    153989    34678       1              147                   1"
      ]
     },
     "execution_count": 29,
     "metadata": {},
     "output_type": "execute_result"
    }
   ],
   "source": [
    "val.head(5)"
   ]
  },
  {
   "cell_type": "code",
   "execution_count": 30,
   "id": "bcdff2e5",
   "metadata": {
    "tags": []
   },
   "outputs": [
    {
     "data": {
      "text/plain": [
       "200153"
      ]
     },
     "execution_count": 30,
     "metadata": {},
     "output_type": "execute_result"
    }
   ],
   "source": [
    "#max(list(train.user_id.values)) + 1\n",
    "train.user_id.max() + 1"
   ]
  },
  {
   "cell_type": "markdown",
   "id": "bc049856",
   "metadata": {},
   "source": [
    "# Model"
   ]
  },
  {
   "cell_type": "code",
   "execution_count": 35,
   "id": "268c4446",
   "metadata": {
    "tags": []
   },
   "outputs": [],
   "source": [
    "class Implicit_NeuralNets(nn.Module):\n",
    "    def __init__(self, num_users, num_items, num_features_id, num_user_context_id):\n",
    "        super(Implicit_NeuralNets, self).__init__()\n",
    "        #user and items embeddings\n",
    "        self.user_emb = nn.Embedding(num_users, 50)\n",
    "        self.item_emb = nn.Embedding(num_items, 50)\n",
    "        #features\n",
    "        self.item_feature_id = nn.Embedding(num_features_id, 8)\n",
    "        self.user_context_id = nn.Embedding(num_user_context_id, 2)\n",
    "        self.linear1 = nn.Linear(110, 80)\n",
    "        self.linear2 = nn.Linear(80, 1)\n",
    "        self.relu = nn.ReLU()\n",
    "        self.dropout = nn.Dropout(p=0.3)\n",
    "\n",
    "\n",
    "    def forward(self, u, v, f, uc):\n",
    "        ### BEGIN SOLUTION\n",
    "        U = self.user_emb(u)\n",
    "        V = self.item_emb(v)\n",
    "        F = self.item_feature_id(f)\n",
    "        UC = self.user_context_id(uc)\n",
    "        x = torch.cat([U,V,F,UC], 1)\n",
    "        x = self.dropout(x)\n",
    "        x = self.linear1(x)\n",
    "        x = self.relu(x)\n",
    "        x = self.dropout(x)\n",
    "        x = self.linear2(x)\n",
    "        return x\n",
    "        \n",
    "        #return torch.sigmoid((U*V).sum(1) + (U*F).sum(1) + b_u  + b_v + b_f)"
   ]
  },
  {
   "cell_type": "code",
   "execution_count": 36,
   "id": "6244d912-ecc6-4956-adb5-4758b54887e7",
   "metadata": {},
   "outputs": [
    {
     "data": {
      "text/plain": [
       "user_id               3537773\n",
       "item_id               3537773\n",
       "rating                3537773\n",
       "item_feature_id       3537773\n",
       "context_feature_id    3537773\n",
       "dtype: int64"
      ]
     },
     "execution_count": 36,
     "metadata": {},
     "output_type": "execute_result"
    }
   ],
   "source": [
    "train.count()"
   ]
  },
  {
   "cell_type": "markdown",
   "id": "16e8dd98",
   "metadata": {},
   "source": [
    "# Training the model on train dataset"
   ]
  },
  {
   "cell_type": "code",
   "execution_count": 37,
   "id": "ed52ca25",
   "metadata": {
    "tags": []
   },
   "outputs": [],
   "source": [
    "def train_one_epoch(model, train_df, optimizer):\n",
    "    \n",
    "    ###\"\"\" Trains the model for one epoch\"\"\"\n",
    "    model.train()\n",
    "    ### BEGIN SOLUTION\n",
    "    # here we are not using data loaders because our data fits well in memory\n",
    "    users = torch.LongTensor(train_df.user_id.values)  #.cuda()\n",
    "    items = torch.LongTensor(train_df.item_id.values) #.cuda()\n",
    "    ratings = torch.FloatTensor(train_df.rating.values)  #.cuda()\n",
    "    item_features = torch.LongTensor(train_df.item_feature_id.values)\n",
    "    user_context_id = torch.LongTensor(train_df.context_feature_id.values)\n",
    "    y_hat = torch.sigmoid(model(users, items, item_features, user_context_id))\n",
    "    loss = F.binary_cross_entropy(y_hat, ratings.unsqueeze(1).float())\n",
    "    optimizer.zero_grad()\n",
    "    loss.backward()\n",
    "    optimizer.step()\n",
    "    train_loss = loss.item()\n",
    "    ### END SOLUTION\n",
    "    return train_loss\n",
    "\n",
    "def valid_metrics(model, valid_df):\n",
    "    ###\"\"\"Computes validation loss and accuracy\"\"\"\n",
    "    model.eval()\n",
    "    ### BEGIN SOLUTION\n",
    "    users = torch.LongTensor(valid_df.user_id.values) # .cuda()\n",
    "    items = torch.LongTensor(valid_df.item_id.values) #.cuda()\n",
    "    ratings = torch.FloatTensor(valid_df.rating.values) #.cuda()\n",
    "    item_features = torch.LongTensor(valid_df.item_feature_id.values)\n",
    "    user_context_id = torch.LongTensor(valid_df.context_feature_id.values)\n",
    "    \n",
    "    y_hat = torch.sigmoid(model(users, items, item_features, user_context_id))\n",
    "    loss = F.binary_cross_entropy(y_hat, ratings.unsqueeze(1).float())\n",
    "    valid_loss = loss.item()\n",
    "    y_pred = (y_hat > 0.5).float()\n",
    "    valid_acc = torch.sum(y_pred == ratings.unsqueeze(1).float()) / len(valid_df)\n",
    "    ### END SOLUTION\n",
    "    return valid_loss, valid_acc.item()\n",
    "    #return valid_loss\n",
    "\n",
    "def training_loop(model, train_df, valid_df, epochs=10, lr=0.01, wd=0.0):\n",
    "    optimizer = torch.optim.AdamW(model.parameters(), lr=lr, weight_decay=wd)\n",
    "    for i in range(epochs):\n",
    "        train_loss = train_one_epoch(model, train_df, optimizer)\n",
    "        valid_loss, valid_acc = valid_metrics(model, valid_df)\n",
    "        #valid_loss= valid_metrics(model, valid_df) \n",
    "        print(\"train loss %.3f valid loss %.3f valid acc %.3f\" % (train_loss, valid_loss, valid_acc))\n",
    "        #print(\"train loss %.3f valid loss %.3f\" % (train_loss, valid_loss)) "
   ]
  },
  {
   "cell_type": "markdown",
   "id": "7ce30c11",
   "metadata": {},
   "source": [
    "# Initiating the model to create user_embedding and item_embedding¶"
   ]
  },
  {
   "cell_type": "code",
   "execution_count": 38,
   "id": "b0d2b489-ab94-4c94-a4b5-5775afd4eea0",
   "metadata": {},
   "outputs": [
    {
     "data": {
      "text/plain": [
       "0"
      ]
     },
     "execution_count": 38,
     "metadata": {},
     "output_type": "execute_result"
    }
   ],
   "source": [
    "(np.isnan(train.context_feature_id.values) == True).sum()"
   ]
  },
  {
   "cell_type": "code",
   "execution_count": 39,
   "id": "fc7c0ac9",
   "metadata": {
    "tags": []
   },
   "outputs": [
    {
     "data": {
      "text/plain": [
       "(200153, 39901, 195, 4)"
      ]
     },
     "execution_count": 39,
     "metadata": {},
     "output_type": "execute_result"
    }
   ],
   "source": [
    "num_users = train.user_id.max() + 1\n",
    "num_items = train.item_id.max() + 1\n",
    "num_features = train.item_feature_id.max() + 1\n",
    "num_user_context_id = train.context_feature_id.max() + 1\n",
    "\n",
    "model = Implicit_NeuralNets(num_users, num_items, num_features, num_user_context_id)\n",
    "num_users, num_items, num_features, num_user_context_id"
   ]
  },
  {
   "cell_type": "markdown",
   "id": "31891e57",
   "metadata": {},
   "source": [
    "# Training with train dataset and validating with val dataset"
   ]
  },
  {
   "cell_type": "code",
   "execution_count": 55,
   "id": "4d914ec3",
   "metadata": {
    "tags": []
   },
   "outputs": [
    {
     "name": "stdout",
     "output_type": "stream",
     "text": [
      "train loss 0.659 valid loss 0.573 valid acc 0.780\n",
      "train loss 0.568 valid loss 0.530 valid acc 0.781\n",
      "train loss 0.531 valid loss 0.516 valid acc 0.781\n",
      "train loss 0.528 valid loss 0.515 valid acc 0.781\n",
      "train loss 0.537 valid loss 0.513 valid acc 0.781\n",
      "train loss 0.538 valid loss 0.506 valid acc 0.781\n",
      "train loss 0.531 valid loss 0.496 valid acc 0.781\n",
      "train loss 0.519 valid loss 0.487 valid acc 0.781\n",
      "train loss 0.506 valid loss 0.480 valid acc 0.783\n",
      "train loss 0.495 valid loss 0.474 valid acc 0.788\n",
      "train loss 0.487 valid loss 0.470 valid acc 0.794\n",
      "train loss 0.480 valid loss 0.464 valid acc 0.798\n",
      "train loss 0.473 valid loss 0.457 valid acc 0.802\n",
      "train loss 0.466 valid loss 0.448 valid acc 0.807\n",
      "train loss 0.458 valid loss 0.436 valid acc 0.813\n",
      "train loss 0.448 valid loss 0.423 valid acc 0.820\n",
      "train loss 0.438 valid loss 0.410 valid acc 0.826\n",
      "train loss 0.428 valid loss 0.397 valid acc 0.833\n",
      "train loss 0.418 valid loss 0.385 valid acc 0.839\n",
      "train loss 0.409 valid loss 0.373 valid acc 0.845\n"
     ]
    }
   ],
   "source": [
    "model = Implicit_NeuralNets(num_users, num_items, num_features, num_user_context_id)\n",
    "training_loop(model, train, val, epochs=20, lr=0.01, wd=1e-5)"
   ]
  },
  {
   "cell_type": "code",
   "execution_count": 68,
   "id": "36edbaa0-63ac-4b2f-b7dc-f9df711a4a02",
   "metadata": {},
   "outputs": [
    {
     "name": "stdout",
     "output_type": "stream",
     "text": [
      "train loss 0.399 valid loss 0.375 valid acc 0.856\n",
      "train loss 0.394 valid loss 0.353 valid acc 0.861\n",
      "train loss 0.378 valid loss 0.337 valid acc 0.864\n",
      "train loss 0.369 valid loss 0.327 valid acc 0.869\n",
      "train loss 0.362 valid loss 0.318 valid acc 0.875\n",
      "train loss 0.354 valid loss 0.312 valid acc 0.880\n",
      "train loss 0.345 valid loss 0.308 valid acc 0.883\n",
      "train loss 0.339 valid loss 0.304 valid acc 0.886\n",
      "train loss 0.333 valid loss 0.300 valid acc 0.889\n",
      "train loss 0.327 valid loss 0.294 valid acc 0.891\n",
      "train loss 0.322 valid loss 0.288 valid acc 0.893\n",
      "train loss 0.316 valid loss 0.282 valid acc 0.895\n",
      "train loss 0.312 valid loss 0.278 valid acc 0.896\n",
      "train loss 0.307 valid loss 0.275 valid acc 0.899\n",
      "train loss 0.304 valid loss 0.273 valid acc 0.900\n",
      "train loss 0.300 valid loss 0.271 valid acc 0.901\n",
      "train loss 0.297 valid loss 0.269 valid acc 0.902\n",
      "train loss 0.294 valid loss 0.268 valid acc 0.903\n",
      "train loss 0.291 valid loss 0.267 valid acc 0.903\n",
      "train loss 0.289 valid loss 0.266 valid acc 0.904\n"
     ]
    }
   ],
   "source": [
    "training_loop(model, train, val, epochs=20, lr=0.01, wd=1e-5)"
   ]
  },
  {
   "cell_type": "code",
   "execution_count": 69,
   "id": "99ddc5f0-decd-4335-8ee3-e4518422e9d1",
   "metadata": {},
   "outputs": [
    {
     "name": "stdout",
     "output_type": "stream",
     "text": [
      "train loss 0.287 valid loss 0.266 valid acc 0.904\n",
      "train loss 0.292 valid loss 0.261 valid acc 0.904\n",
      "train loss 0.282 valid loss 0.265 valid acc 0.905\n",
      "train loss 0.281 valid loss 0.267 valid acc 0.905\n",
      "train loss 0.281 valid loss 0.262 valid acc 0.905\n",
      "train loss 0.277 valid loss 0.258 valid acc 0.905\n",
      "train loss 0.274 valid loss 0.257 valid acc 0.905\n",
      "train loss 0.273 valid loss 0.257 valid acc 0.906\n",
      "train loss 0.272 valid loss 0.256 valid acc 0.906\n",
      "train loss 0.270 valid loss 0.255 valid acc 0.906\n"
     ]
    }
   ],
   "source": [
    "training_loop(model, train, val, epochs=10, lr=0.01, wd=1e-5)"
   ]
  },
  {
   "cell_type": "code",
   "execution_count": 76,
   "id": "88009943-357b-4165-9d52-e2e3e9023dd0",
   "metadata": {},
   "outputs": [
    {
     "name": "stdout",
     "output_type": "stream",
     "text": [
      "train loss 0.268 valid loss 0.266 valid acc 0.906\n",
      "train loss 0.273 valid loss 0.255 valid acc 0.906\n",
      "train loss 0.265 valid loss 0.255 valid acc 0.906\n",
      "train loss 0.265 valid loss 0.255 valid acc 0.906\n",
      "train loss 0.265 valid loss 0.254 valid acc 0.906\n",
      "train loss 0.262 valid loss 0.253 valid acc 0.906\n",
      "train loss 0.259 valid loss 0.254 valid acc 0.907\n",
      "train loss 0.258 valid loss 0.254 valid acc 0.907\n",
      "train loss 0.257 valid loss 0.253 valid acc 0.907\n",
      "train loss 0.255 valid loss 0.252 valid acc 0.907\n"
     ]
    }
   ],
   "source": [
    "training_loop(model, train, val, epochs=10, lr=0.01, wd=1e-6)"
   ]
  },
  {
   "cell_type": "code",
   "execution_count": 77,
   "id": "6a2df86b-a05b-4340-9aea-44b7dea9d1f5",
   "metadata": {},
   "outputs": [
    {
     "name": "stdout",
     "output_type": "stream",
     "text": [
      "train loss 0.253 valid loss 0.257 valid acc 0.907\n",
      "train loss 0.258 valid loss 0.252 valid acc 0.907\n",
      "train loss 0.252 valid loss 0.253 valid acc 0.907\n",
      "train loss 0.251 valid loss 0.253 valid acc 0.907\n",
      "train loss 0.250 valid loss 0.250 valid acc 0.907\n",
      "train loss 0.247 valid loss 0.249 valid acc 0.907\n",
      "train loss 0.246 valid loss 0.250 valid acc 0.907\n",
      "train loss 0.245 valid loss 0.250 valid acc 0.908\n",
      "train loss 0.243 valid loss 0.249 valid acc 0.908\n",
      "train loss 0.241 valid loss 0.249 valid acc 0.908\n"
     ]
    }
   ],
   "source": [
    "training_loop(model, train, val, epochs=10, lr=0.01, wd=1e-4)"
   ]
  },
  {
   "cell_type": "code",
   "execution_count": 78,
   "id": "56dc9701-070c-48d7-8598-f38cf19dc451",
   "metadata": {},
   "outputs": [
    {
     "name": "stdout",
     "output_type": "stream",
     "text": [
      "train loss 0.239 valid loss 0.248 valid acc 0.908\n",
      "train loss 0.239 valid loss 0.248 valid acc 0.908\n",
      "train loss 0.239 valid loss 0.248 valid acc 0.908\n",
      "train loss 0.239 valid loss 0.248 valid acc 0.908\n",
      "train loss 0.238 valid loss 0.248 valid acc 0.908\n",
      "train loss 0.238 valid loss 0.248 valid acc 0.908\n",
      "train loss 0.238 valid loss 0.248 valid acc 0.908\n",
      "train loss 0.238 valid loss 0.248 valid acc 0.908\n",
      "train loss 0.238 valid loss 0.248 valid acc 0.908\n",
      "train loss 0.238 valid loss 0.248 valid acc 0.908\n"
     ]
    }
   ],
   "source": [
    "training_loop(model, train, val, epochs=10, lr=0.001, wd=0)"
   ]
  },
  {
   "cell_type": "code",
   "execution_count": 79,
   "id": "01550d66-6da8-4d35-94f8-7c32026b7a2a",
   "metadata": {},
   "outputs": [
    {
     "name": "stdout",
     "output_type": "stream",
     "text": [
      "train loss 0.237 valid loss 0.250 valid acc 0.908\n",
      "train loss 0.238 valid loss 0.247 valid acc 0.909\n",
      "train loss 0.238 valid loss 0.245 valid acc 0.909\n",
      "train loss 0.234 valid loss 0.247 valid acc 0.908\n",
      "train loss 0.233 valid loss 0.247 valid acc 0.908\n",
      "train loss 0.231 valid loss 0.246 valid acc 0.909\n",
      "train loss 0.229 valid loss 0.246 valid acc 0.910\n",
      "train loss 0.229 valid loss 0.246 valid acc 0.910\n",
      "train loss 0.228 valid loss 0.245 valid acc 0.910\n",
      "train loss 0.225 valid loss 0.245 valid acc 0.910\n"
     ]
    }
   ],
   "source": [
    "training_loop(model, train, val, epochs=10, lr=0.01, wd=5e-4)"
   ]
  },
  {
   "cell_type": "markdown",
   "id": "27ef8577",
   "metadata": {},
   "source": [
    "# Hyperparameter Tuning"
   ]
  },
  {
   "cell_type": "code",
   "execution_count": 45,
   "id": "119a4a1d",
   "metadata": {},
   "outputs": [
    {
     "name": "stdout",
     "output_type": "stream",
     "text": [
      "train loss 0.714 valid loss 0.646 valid acc 0.701\n",
      "train loss 0.646 valid loss 0.606 valid acc 0.727\n",
      "train loss 0.606 valid loss 0.583 valid acc 0.727\n",
      "train loss 0.588 valid loss 0.572 valid acc 0.727\n",
      "train loss 0.584 valid loss 0.567 valid acc 0.727\n",
      "train loss 0.585 valid loss 0.562 valid acc 0.728\n",
      "train loss 0.584 valid loss 0.555 valid acc 0.729\n",
      "train loss 0.578 valid loss 0.546 valid acc 0.731\n",
      "train loss 0.569 valid loss 0.537 valid acc 0.734\n",
      "train loss 0.558 valid loss 0.528 valid acc 0.739\n",
      "train loss 0.547 valid loss 0.519 valid acc 0.744\n",
      "train loss 0.537 valid loss 0.511 valid acc 0.752\n",
      "train loss 0.528 valid loss 0.503 valid acc 0.762\n",
      "train loss 0.519 valid loss 0.493 valid acc 0.774\n",
      "train loss 0.509 valid loss 0.483 valid acc 0.785\n",
      "train loss 0.499 valid loss 0.471 valid acc 0.796\n",
      "train loss 0.489 valid loss 0.458 valid acc 0.807\n",
      "train loss 0.478 valid loss 0.445 valid acc 0.817\n",
      "train loss 0.467 valid loss 0.431 valid acc 0.826\n",
      "train loss 0.455 valid loss 0.417 valid acc 0.835\n",
      "train loss 0.444 valid loss 0.404 valid acc 0.842\n",
      "train loss 0.433 valid loss 0.391 valid acc 0.849\n",
      "train loss 0.422 valid loss 0.378 valid acc 0.855\n",
      "train loss 0.411 valid loss 0.366 valid acc 0.861\n",
      "train loss 0.401 valid loss 0.355 valid acc 0.866\n",
      "train loss 0.390 valid loss 0.345 valid acc 0.870\n",
      "train loss 0.381 valid loss 0.336 valid acc 0.873\n",
      "train loss 0.372 valid loss 0.328 valid acc 0.876\n",
      "train loss 0.364 valid loss 0.321 valid acc 0.879\n",
      "train loss 0.356 valid loss 0.315 valid acc 0.882\n",
      "train loss 0.349 valid loss 0.310 valid acc 0.885\n",
      "train loss 0.343 valid loss 0.305 valid acc 0.887\n",
      "train loss 0.336 valid loss 0.301 valid acc 0.889\n",
      "train loss 0.331 valid loss 0.297 valid acc 0.890\n",
      "train loss 0.326 valid loss 0.294 valid acc 0.891\n",
      "train loss 0.322 valid loss 0.291 valid acc 0.892\n",
      "train loss 0.318 valid loss 0.288 valid acc 0.893\n",
      "train loss 0.315 valid loss 0.286 valid acc 0.894\n",
      "train loss 0.312 valid loss 0.284 valid acc 0.895\n",
      "train loss 0.309 valid loss 0.282 valid acc 0.895\n"
     ]
    }
   ],
   "source": [
    "# model1:\n",
    "model = Implicit_NeuralNets(num_users, num_items, num_features, num_user_context_id) #.cuda()\n",
    "training_loop(model, train, val, epochs=40, lr=0.01, wd = 1e-5)"
   ]
  },
  {
   "cell_type": "code",
   "execution_count": 46,
   "id": "25eec6a7",
   "metadata": {},
   "outputs": [
    {
     "name": "stdout",
     "output_type": "stream",
     "text": [
      "train loss 0.767 valid loss 0.673 valid acc 0.604\n",
      "train loss 0.679 valid loss 0.624 valid acc 0.720\n",
      "train loss 0.625 valid loss 0.593 valid acc 0.727\n",
      "train loss 0.597 valid loss 0.577 valid acc 0.727\n",
      "train loss 0.585 valid loss 0.568 valid acc 0.727\n",
      "train loss 0.583 valid loss 0.563 valid acc 0.727\n",
      "train loss 0.584 valid loss 0.559 valid acc 0.728\n",
      "train loss 0.583 valid loss 0.552 valid acc 0.729\n",
      "train loss 0.579 valid loss 0.544 valid acc 0.732\n",
      "train loss 0.571 valid loss 0.535 valid acc 0.736\n",
      "train loss 0.560 valid loss 0.525 valid acc 0.742\n",
      "train loss 0.550 valid loss 0.516 valid acc 0.750\n",
      "train loss 0.539 valid loss 0.507 valid acc 0.758\n",
      "train loss 0.528 valid loss 0.498 valid acc 0.768\n",
      "train loss 0.518 valid loss 0.489 valid acc 0.777\n",
      "train loss 0.508 valid loss 0.479 valid acc 0.785\n",
      "train loss 0.498 valid loss 0.468 valid acc 0.793\n",
      "train loss 0.488 valid loss 0.456 valid acc 0.802\n",
      "train loss 0.477 valid loss 0.443 valid acc 0.812\n",
      "train loss 0.467 valid loss 0.430 valid acc 0.821\n",
      "train loss 0.455 valid loss 0.417 valid acc 0.830\n",
      "train loss 0.444 valid loss 0.405 valid acc 0.838\n",
      "train loss 0.434 valid loss 0.392 valid acc 0.845\n",
      "train loss 0.423 valid loss 0.381 valid acc 0.850\n",
      "train loss 0.413 valid loss 0.370 valid acc 0.855\n",
      "train loss 0.403 valid loss 0.360 valid acc 0.860\n",
      "train loss 0.394 valid loss 0.350 valid acc 0.864\n",
      "train loss 0.385 valid loss 0.341 valid acc 0.868\n",
      "train loss 0.376 valid loss 0.333 valid acc 0.873\n",
      "train loss 0.368 valid loss 0.326 valid acc 0.877\n",
      "train loss 0.360 valid loss 0.320 valid acc 0.881\n",
      "train loss 0.353 valid loss 0.314 valid acc 0.884\n",
      "train loss 0.346 valid loss 0.309 valid acc 0.886\n",
      "train loss 0.340 valid loss 0.304 valid acc 0.888\n",
      "train loss 0.334 valid loss 0.300 valid acc 0.890\n",
      "train loss 0.329 valid loss 0.297 valid acc 0.891\n",
      "train loss 0.324 valid loss 0.294 valid acc 0.892\n",
      "train loss 0.320 valid loss 0.291 valid acc 0.894\n",
      "train loss 0.316 valid loss 0.288 valid acc 0.895\n",
      "train loss 0.313 valid loss 0.286 valid acc 0.896\n"
     ]
    }
   ],
   "source": [
    "# model1:\n",
    "model = Implicit_NeuralNets(num_users, num_items, num_features, num_user_context_id) #.cuda()\n",
    "training_loop(model, train, val, epochs=40, lr=0.01, wd = 1e-6)"
   ]
  },
  {
   "cell_type": "code",
   "execution_count": 88,
   "id": "13bd38e6",
   "metadata": {},
   "outputs": [
    {
     "name": "stdout",
     "output_type": "stream",
     "text": [
      "train loss 0.669 valid loss 0.579 valid acc 0.727\n",
      "train loss 0.602 valid loss 0.563 valid acc 0.727\n",
      "train loss 0.594 valid loss 0.531 valid acc 0.733\n",
      "train loss 0.552 valid loss 0.509 valid acc 0.754\n",
      "train loss 0.522 valid loss 0.487 valid acc 0.782\n",
      "train loss 0.499 valid loss 0.457 valid acc 0.809\n",
      "train loss 0.473 valid loss 0.423 valid acc 0.833\n",
      "train loss 0.445 valid loss 0.391 valid acc 0.854\n",
      "train loss 0.417 valid loss 0.362 valid acc 0.866\n",
      "train loss 0.392 valid loss 0.342 valid acc 0.873\n",
      "train loss 0.373 valid loss 0.327 valid acc 0.879\n",
      "train loss 0.357 valid loss 0.312 valid acc 0.885\n",
      "train loss 0.338 valid loss 0.299 valid acc 0.890\n",
      "train loss 0.321 valid loss 0.292 valid acc 0.893\n",
      "train loss 0.310 valid loss 0.289 valid acc 0.895\n",
      "train loss 0.305 valid loss 0.283 valid acc 0.896\n",
      "train loss 0.298 valid loss 0.277 valid acc 0.896\n",
      "train loss 0.290 valid loss 0.275 valid acc 0.897\n",
      "train loss 0.287 valid loss 0.275 valid acc 0.897\n",
      "train loss 0.284 valid loss 0.273 valid acc 0.898\n",
      "train loss 0.281 valid loss 0.270 valid acc 0.898\n",
      "train loss 0.276 valid loss 0.268 valid acc 0.898\n",
      "train loss 0.272 valid loss 0.268 valid acc 0.897\n",
      "train loss 0.270 valid loss 0.267 valid acc 0.897\n",
      "train loss 0.267 valid loss 0.265 valid acc 0.898\n",
      "train loss 0.263 valid loss 0.265 valid acc 0.898\n",
      "train loss 0.260 valid loss 0.265 valid acc 0.898\n",
      "train loss 0.257 valid loss 0.265 valid acc 0.898\n",
      "train loss 0.254 valid loss 0.264 valid acc 0.898\n",
      "train loss 0.250 valid loss 0.264 valid acc 0.898\n",
      "train loss 0.247 valid loss 0.264 valid acc 0.898\n",
      "train loss 0.244 valid loss 0.264 valid acc 0.898\n",
      "train loss 0.241 valid loss 0.266 valid acc 0.899\n",
      "train loss 0.238 valid loss 0.269 valid acc 0.899\n",
      "train loss 0.236 valid loss 0.270 valid acc 0.899\n",
      "train loss 0.234 valid loss 0.270 valid acc 0.899\n",
      "train loss 0.231 valid loss 0.269 valid acc 0.899\n",
      "train loss 0.229 valid loss 0.269 valid acc 0.899\n",
      "train loss 0.227 valid loss 0.270 valid acc 0.899\n",
      "train loss 0.225 valid loss 0.272 valid acc 0.899\n"
     ]
    }
   ],
   "source": [
    "# model1:\n",
    "model = Implicit_NeuralNets(num_users, num_items, num_features, num_user_context_id) #.cuda()\n",
    "training_loop(model, train, val, epochs=40, lr=0.035, wd = 1e-4)"
   ]
  },
  {
   "cell_type": "markdown",
   "id": "8e79756c",
   "metadata": {},
   "source": [
    "# Training the dataset on complete training dataset"
   ]
  },
  {
   "cell_type": "code",
   "execution_count": 80,
   "id": "744bc330",
   "metadata": {},
   "outputs": [
    {
     "data": {
      "text/html": [
       "<div>\n",
       "<style scoped>\n",
       "    .dataframe tbody tr th:only-of-type {\n",
       "        vertical-align: middle;\n",
       "    }\n",
       "\n",
       "    .dataframe tbody tr th {\n",
       "        vertical-align: top;\n",
       "    }\n",
       "\n",
       "    .dataframe thead th {\n",
       "        text-align: right;\n",
       "    }\n",
       "</style>\n",
       "<table border=\"1\" class=\"dataframe\">\n",
       "  <thead>\n",
       "    <tr style=\"text-align: right;\">\n",
       "      <th></th>\n",
       "      <th>id</th>\n",
       "      <th>user_id</th>\n",
       "      <th>item_id</th>\n",
       "      <th>context_feature_id</th>\n",
       "    </tr>\n",
       "  </thead>\n",
       "  <tbody>\n",
       "    <tr>\n",
       "      <th>0</th>\n",
       "      <td>0</td>\n",
       "      <td>4</td>\n",
       "      <td>16835</td>\n",
       "      <td>2</td>\n",
       "    </tr>\n",
       "    <tr>\n",
       "      <th>1</th>\n",
       "      <td>1</td>\n",
       "      <td>4</td>\n",
       "      <td>22590</td>\n",
       "      <td>3</td>\n",
       "    </tr>\n",
       "    <tr>\n",
       "      <th>2</th>\n",
       "      <td>2</td>\n",
       "      <td>4</td>\n",
       "      <td>1978</td>\n",
       "      <td>1</td>\n",
       "    </tr>\n",
       "    <tr>\n",
       "      <th>3</th>\n",
       "      <td>3</td>\n",
       "      <td>4</td>\n",
       "      <td>28916</td>\n",
       "      <td>1</td>\n",
       "    </tr>\n",
       "    <tr>\n",
       "      <th>4</th>\n",
       "      <td>4</td>\n",
       "      <td>4</td>\n",
       "      <td>14427</td>\n",
       "      <td>2</td>\n",
       "    </tr>\n",
       "  </tbody>\n",
       "</table>\n",
       "</div>"
      ],
      "text/plain": [
       "   id  user_id  item_id  context_feature_id\n",
       "0   0        4    16835                   2\n",
       "1   1        4    22590                   3\n",
       "2   2        4     1978                   1\n",
       "3   3        4    28916                   1\n",
       "4   4        4    14427                   2"
      ]
     },
     "execution_count": 80,
     "metadata": {},
     "output_type": "execute_result"
    }
   ],
   "source": [
    "test = pd.read_csv('../data/test_kaggle.csv')\n",
    "test.head()"
   ]
  },
  {
   "cell_type": "code",
   "execution_count": 81,
   "id": "091abefe",
   "metadata": {},
   "outputs": [],
   "source": [
    "test = test.merge(item_feature, on = 'item_id')"
   ]
  },
  {
   "cell_type": "markdown",
   "id": "98226725",
   "metadata": {},
   "source": [
    "# Prediction on test_dataset"
   ]
  },
  {
   "cell_type": "code",
   "execution_count": 86,
   "id": "a5ba7e91",
   "metadata": {},
   "outputs": [],
   "source": [
    "test_ids = torch.LongTensor(test.id.values)\n",
    "test_users = torch.LongTensor(test.user_id.values) # .cuda()\n",
    "test_items = torch.LongTensor(test.item_id.values) #.cuda()\n",
    "test_item_features = torch.LongTensor(test.item_feature_id.values) #.cuda()\n",
    "test_context_feature_id = torch.LongTensor(test.context_feature_id.values)\n",
    "test_y_hat = torch.sigmoid(model(test_users, test_items, test_item_features, test_context_feature_id))"
   ]
  },
  {
   "cell_type": "code",
   "execution_count": 87,
   "id": "a4b5e832",
   "metadata": {},
   "outputs": [
    {
     "data": {
      "text/plain": [
       "381385"
      ]
     },
     "execution_count": 87,
     "metadata": {},
     "output_type": "execute_result"
    }
   ],
   "source": [
    "len(test_y_hat)"
   ]
  },
  {
   "cell_type": "code",
   "execution_count": 88,
   "id": "3eabeed8-0369-4a87-ac1b-ae4e206cf6cc",
   "metadata": {},
   "outputs": [
    {
     "data": {
      "text/plain": [
       "tensor([[0.5578],\n",
       "        [0.2370],\n",
       "        [0.3410],\n",
       "        ...,\n",
       "        [0.2699],\n",
       "        [0.3602],\n",
       "        [0.8165]], grad_fn=<SigmoidBackward0>)"
      ]
     },
     "execution_count": 88,
     "metadata": {},
     "output_type": "execute_result"
    }
   ],
   "source": [
    "test_y_hat"
   ]
  },
  {
   "cell_type": "code",
   "execution_count": 89,
   "id": "2d31dce4",
   "metadata": {},
   "outputs": [],
   "source": [
    "d = {'id':test_ids,'rating':(test_y_hat.detach().numpy()).reshape(-1)}\n",
    "test_knownUsers_df = pd.DataFrame(d)"
   ]
  },
  {
   "cell_type": "code",
   "execution_count": 90,
   "id": "19cef529",
   "metadata": {},
   "outputs": [],
   "source": [
    "test_knownUsers_df = test_knownUsers_df.groupby(['id']).mean()"
   ]
  },
  {
   "cell_type": "code",
   "execution_count": 91,
   "id": "6aa1ea74",
   "metadata": {
    "tags": []
   },
   "outputs": [],
   "source": [
    "test_knownUsers_df.to_csv('submission35.csv')"
   ]
  },
  {
   "cell_type": "code",
   "execution_count": null,
   "id": "7b5e25df-9604-4170-afec-42ec6a8dc633",
   "metadata": {},
   "outputs": [],
   "source": []
  }
 ],
 "metadata": {
  "kernelspec": {
   "display_name": "Python 3 (ipykernel)",
   "language": "python",
   "name": "python3"
  },
  "language_info": {
   "codemirror_mode": {
    "name": "ipython",
    "version": 3
   },
   "file_extension": ".py",
   "mimetype": "text/x-python",
   "name": "python",
   "nbconvert_exporter": "python",
   "pygments_lexer": "ipython3",
   "version": "3.8.12"
  }
 },
 "nbformat": 4,
 "nbformat_minor": 5
}
